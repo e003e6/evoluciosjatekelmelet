{
 "cells": [
  {
   "cell_type": "code",
   "execution_count": 1,
   "id": "627793ef-1079-493a-a6a3-bd5eb0713f0c",
   "metadata": {},
   "outputs": [],
   "source": [
    "import numpy as np"
   ]
  },
  {
   "cell_type": "code",
   "execution_count": 3,
   "id": "f5ccbfa2-370d-46e0-9e30-e7e6725512b5",
   "metadata": {},
   "outputs": [],
   "source": [
    "tn = ['G', 'B',\n",
    "      'B', 'G',\n",
    "      'B', 'B']\n",
    "n=100\n",
    "generations=1000\n",
    "rounds=10\n",
    "fr=(0.8, 'CD')\n",
    "init_good=0.5\n",
    "mu=0.02\n",
    "epsilon=0.01\n",
    "e_rep=0\n",
    "e_act=0\n",
    "c=3\n",
    "b=9\n",
    "alpha=1\n",
    "beta=4\n",
    "communication=100\n",
    "com_mode=1\n",
    "init_correlation=0"
   ]
  },
  {
   "cell_type": "code",
   "execution_count": null,
   "id": "bd665bab-3d9f-449f-b9c6-7ab80b24d19a",
   "metadata": {},
   "outputs": [],
   "source": []
  },
  {
   "cell_type": "code",
   "execution_count": 149,
   "id": "65198912-523b-4360-92e7-3a514f066398",
   "metadata": {},
   "outputs": [],
   "source": [
    "def r_to_num(r):\n",
    "    return 0 if r == 'G' else 1\n",
    "\n",
    "def s_to_num(s):\n",
    "    match s:\n",
    "        case 'C':\n",
    "            return 0\n",
    "        case 'D':\n",
    "            return 1\n",
    "        case 'P':\n",
    "            return 2\n",
    "\n",
    "def _set_strategy(n, fr):\n",
    "    strategy = np.zeros((n, 2), dtype=np.uint8)\n",
    "    th = int(n * fr[0])\n",
    "\n",
    "    # megadott %-ú ágenshez beállítom a kezdetben többségi viselkedési szabályt\n",
    "    strategy[:th, 0] = s_to_num(fr[1][0])\n",
    "    strategy[:th, 1] = s_to_num(fr[1][1])\n",
    "    # maradék ágensek véletlenszerű cselekvési szabályt kapnak\n",
    "    strategy[th:, :] = np.random.randint(0, 3, size=(n - th, 2))\n",
    "\n",
    "    return strategy"
   ]
  },
  {
   "cell_type": "code",
   "execution_count": 150,
   "id": "e5544b2c-577d-4f38-b32b-988a76c137a1",
   "metadata": {},
   "outputs": [],
   "source": [
    "strategy = _set_strategy(n, fr)"
   ]
  },
  {
   "cell_type": "code",
   "execution_count": 77,
   "id": "42fbf804-3db6-43df-bf77-23ff54bb8a9e",
   "metadata": {},
   "outputs": [],
   "source": [
    "public_norm = np.array([r_to_num(t) for t in tn], dtype=np.uint8).reshape(3, 2)"
   ]
  },
  {
   "cell_type": "code",
   "execution_count": 79,
   "id": "8b05ba45-705f-4f34-8de6-9a332cd29ff1",
   "metadata": {},
   "outputs": [
    {
     "data": {
      "text/plain": [
       "array([[0, 1],\n",
       "       [1, 0],\n",
       "       [1, 1]], dtype=uint8)"
      ]
     },
     "execution_count": 79,
     "metadata": {},
     "output_type": "execute_result"
    }
   ],
   "source": [
    "public_norm"
   ]
  },
  {
   "cell_type": "code",
   "execution_count": 95,
   "id": "cf5afa27-d695-4621-b8ac-ca637e04741d",
   "metadata": {},
   "outputs": [],
   "source": [
    "donoridx = 20\n",
    "recipientidx = 45\n",
    "donor_action = 2     # coperal"
   ]
  },
  {
   "cell_type": "code",
   "execution_count": 109,
   "id": "6c6f3328-c550-4874-b0ff-288d253a3238",
   "metadata": {},
   "outputs": [
    {
     "data": {
      "text/plain": [
       "array([[1, 1, 1, ..., 1, 0, 0],\n",
       "       [1, 0, 0, ..., 0, 0, 0],\n",
       "       [0, 0, 1, ..., 1, 1, 0],\n",
       "       ...,\n",
       "       [0, 0, 1, ..., 0, 1, 0],\n",
       "       [0, 1, 0, ..., 0, 0, 1],\n",
       "       [0, 0, 0, ..., 1, 1, 0]], shape=(100, 100), dtype=uint8)"
      ]
     },
     "execution_count": 109,
     "metadata": {},
     "output_type": "execute_result"
    }
   ],
   "source": [
    "reputation"
   ]
  },
  {
   "cell_type": "code",
   "execution_count": null,
   "id": "15197923-b152-4f14-8622-7f0ff6f37e8f",
   "metadata": {},
   "outputs": [],
   "source": []
  },
  {
   "cell_type": "code",
   "execution_count": 114,
   "id": "8d7f5cf0-3b36-4f5f-8b47-3099f9c7c714",
   "metadata": {},
   "outputs": [],
   "source": [
    "parok = np.random.permutation(n).reshape(-1, 2)"
   ]
  },
  {
   "cell_type": "code",
   "execution_count": 136,
   "id": "9b59db12-7e8f-41a2-9e5d-f1cac8509db1",
   "metadata": {},
   "outputs": [],
   "source": [
    "rec_hirnev = 1"
   ]
  },
  {
   "cell_type": "code",
   "execution_count": 154,
   "id": "9e3bce11-b198-4eea-a4c0-e5ad2b5912c1",
   "metadata": {},
   "outputs": [
    {
     "data": {
      "text/plain": [
       "20"
      ]
     },
     "execution_count": 154,
     "metadata": {},
     "output_type": "execute_result"
    }
   ],
   "source": [
    "donoridx"
   ]
  },
  {
   "cell_type": "code",
   "execution_count": 157,
   "id": "1af62812-9b71-4b67-a06d-3fc400542bc0",
   "metadata": {},
   "outputs": [],
   "source": [
    "# A hibákat XOR-ral tudjuk kezelni: a rec_hirnev 0<->1 átfordul, ha hiba van\n",
    "donor_action = strategy[donoridx][np.bitwise_xor(rec_hirnev, (np.random.rand() <= e_rep))]"
   ]
  },
  {
   "cell_type": "code",
   "execution_count": 158,
   "id": "e3dbe92f-0dff-42b1-97f7-40dfe3677a51",
   "metadata": {},
   "outputs": [
    {
     "data": {
      "text/plain": [
       "np.uint8(2)"
      ]
     },
     "execution_count": 158,
     "metadata": {},
     "output_type": "execute_result"
    }
   ],
   "source": [
    "donor_action"
   ]
  },
  {
   "cell_type": "code",
   "execution_count": 155,
   "id": "2b772eba-45e9-4884-ac79-da68bd297c5d",
   "metadata": {},
   "outputs": [
    {
     "data": {
      "text/plain": [
       "array([0, 1], dtype=uint8)"
      ]
     },
     "execution_count": 155,
     "metadata": {},
     "output_type": "execute_result"
    }
   ],
   "source": [
    "strategy[20]"
   ]
  },
  {
   "cell_type": "code",
   "execution_count": 156,
   "id": "c168c880-5975-44c5-8a7f-b2999e53f1ea",
   "metadata": {},
   "outputs": [
    {
     "data": {
      "text/plain": [
       "array([0, 2], dtype=uint8)"
      ]
     },
     "execution_count": 156,
     "metadata": {},
     "output_type": "execute_result"
    }
   ],
   "source": [
    "strategy[80]"
   ]
  },
  {
   "cell_type": "code",
   "execution_count": null,
   "id": "e08b7567-fc06-4108-b999-3ba8d25b6267",
   "metadata": {},
   "outputs": [],
   "source": []
  },
  {
   "cell_type": "code",
   "execution_count": null,
   "id": "e847d7c3-8398-4354-a6ad-706d8fbe90c8",
   "metadata": {},
   "outputs": [],
   "source": []
  },
  {
   "cell_type": "code",
   "execution_count": null,
   "id": "d69db79a-0ae3-4057-8303-ebf79d8b75a7",
   "metadata": {},
   "outputs": [],
   "source": []
  },
  {
   "cell_type": "code",
   "execution_count": 174,
   "id": "0e281998-35a5-4224-bc29-f4ce910eb562",
   "metadata": {},
   "outputs": [],
   "source": [
    "donoridx = 20"
   ]
  },
  {
   "cell_type": "code",
   "execution_count": 175,
   "id": "58c61b1e-7392-405c-97ff-c70bd0c79bf5",
   "metadata": {},
   "outputs": [],
   "source": [
    "donor_action = strategy[donoridx][np.bitwise_xor(rec_hirnev, (np.random.rand() <= e_rep))]"
   ]
  },
  {
   "cell_type": "code",
   "execution_count": 176,
   "id": "34236bb3-16bc-40a9-bca4-b1c1387e9a37",
   "metadata": {},
   "outputs": [
    {
     "data": {
      "text/plain": [
       "np.uint8(1)"
      ]
     },
     "execution_count": 176,
     "metadata": {},
     "output_type": "execute_result"
    }
   ],
   "source": [
    "donor_action"
   ]
  },
  {
   "cell_type": "code",
   "execution_count": 177,
   "id": "c34adf17-3f5b-4868-98ff-5bc94e9db3d1",
   "metadata": {},
   "outputs": [],
   "source": [
    "if np.random.rand() > e_rep: # ha NINCSEN hiba\n",
    "    donor_action = strategy[donoridx][0] if (rec_hirnev == 0) else strategy[donoridx][1]\n",
    "else:\n",
    "    donor_action = strategy[donoridx][0] if (rec_hirnev == 1) else strategy[donoridx][1]"
   ]
  },
  {
   "cell_type": "code",
   "execution_count": 178,
   "id": "454ee764-51a1-4b0f-ae0d-deafae6e9987",
   "metadata": {},
   "outputs": [
    {
     "data": {
      "text/plain": [
       "np.uint8(1)"
      ]
     },
     "execution_count": 178,
     "metadata": {},
     "output_type": "execute_result"
    }
   ],
   "source": [
    "donor_action"
   ]
  },
  {
   "cell_type": "code",
   "execution_count": 179,
   "id": "37b87b30-0868-4377-af3d-a82b8559ef8e",
   "metadata": {},
   "outputs": [
    {
     "data": {
      "text/plain": [
       "False"
      ]
     },
     "execution_count": 179,
     "metadata": {},
     "output_type": "execute_result"
    }
   ],
   "source": [
    "(np.random.rand() <= e_act)"
   ]
  },
  {
   "cell_type": "code",
   "execution_count": 180,
   "id": "1d451ddb-d667-4315-9af0-31c763b5df47",
   "metadata": {},
   "outputs": [
    {
     "data": {
      "text/plain": [
       "np.uint8(1)"
      ]
     },
     "execution_count": 180,
     "metadata": {},
     "output_type": "execute_result"
    }
   ],
   "source": [
    "np.bitwise_xor(donor_action, (np.random.rand() <= e_act))"
   ]
  },
  {
   "cell_type": "code",
   "execution_count": null,
   "id": "bda610a2-3b13-445c-a366-9888218021d2",
   "metadata": {},
   "outputs": [],
   "source": []
  },
  {
   "cell_type": "code",
   "execution_count": 182,
   "id": "04907d7b-78cb-4bdc-90ac-bd6ad237fd1b",
   "metadata": {},
   "outputs": [
    {
     "data": {
      "text/plain": [
       "array([[1, 1, 1, ..., 1, 0, 0],\n",
       "       [1, 0, 0, ..., 0, 0, 0],\n",
       "       [0, 0, 1, ..., 1, 1, 0],\n",
       "       ...,\n",
       "       [0, 0, 1, ..., 0, 1, 0],\n",
       "       [0, 1, 0, ..., 0, 0, 1],\n",
       "       [0, 0, 0, ..., 1, 1, 0]], shape=(100, 100), dtype=uint8)"
      ]
     },
     "execution_count": 182,
     "metadata": {},
     "output_type": "execute_result"
    }
   ],
   "source": [
    "reputation"
   ]
  },
  {
   "cell_type": "code",
   "execution_count": null,
   "id": "fd770560-0f3b-4dde-9ff9-a6ac20892ba9",
   "metadata": {},
   "outputs": [],
   "source": []
  },
  {
   "cell_type": "code",
   "execution_count": 206,
   "id": "a5eb4bb6-3ae1-417e-9d3b-96793e262088",
   "metadata": {},
   "outputs": [
    {
     "data": {
      "text/plain": [
       "array([78, 38, 28])"
      ]
     },
     "execution_count": 206,
     "metadata": {},
     "output_type": "execute_result"
    }
   ],
   "source": [
    "np.random.choice(np.arange(0, n), 3, replace=False)"
   ]
  },
  {
   "cell_type": "code",
   "execution_count": 186,
   "id": "b94411d9-31b9-4deb-9c30-9a60ecc8f56e",
   "metadata": {},
   "outputs": [
    {
     "data": {
      "text/plain": [
       "array([ 0,  1,  2,  3,  4,  5,  6,  7,  8,  9, 10, 11, 12, 13, 14, 15, 16,\n",
       "       17, 18, 19, 20, 21, 22, 23, 24, 25, 26, 27, 28, 29, 30, 31, 32, 33,\n",
       "       34, 35, 36, 37, 38, 39, 40, 41, 42, 43, 44, 45, 46, 47, 48, 49, 50,\n",
       "       51, 52, 53, 54, 55, 56, 57, 58, 59, 60, 61, 62, 63, 64, 65, 66, 67,\n",
       "       68, 69, 70, 71, 72, 73, 74, 75, 76, 77, 78, 79, 80, 81, 82, 83, 84,\n",
       "       85, 86, 87, 88, 89, 90, 91, 92, 93, 94, 95, 96, 97, 98, 99])"
      ]
     },
     "execution_count": 186,
     "metadata": {},
     "output_type": "execute_result"
    }
   ],
   "source": []
  },
  {
   "cell_type": "code",
   "execution_count": 222,
   "id": "d275cd65-23f4-42a0-8d91-5f34c04dcaf2",
   "metadata": {},
   "outputs": [],
   "source": [
    "matrix = np.random.randint(0, 100, (2, 3))"
   ]
  },
  {
   "cell_type": "code",
   "execution_count": null,
   "id": "ce40a281-f326-4e36-9edc-f5dc66beff6e",
   "metadata": {},
   "outputs": [],
   "source": []
  },
  {
   "cell_type": "code",
   "execution_count": null,
   "id": "1648a97c-2d61-4da7-ad9f-b7a562d1ee4c",
   "metadata": {},
   "outputs": [],
   "source": []
  },
  {
   "cell_type": "code",
   "execution_count": null,
   "id": "0a959c9a-c277-41e9-b922-17702220ef10",
   "metadata": {},
   "outputs": [],
   "source": [
    "np.random.choice()"
   ]
  },
  {
   "cell_type": "code",
   "execution_count": null,
   "id": "72fa4a9b-d8f3-43d1-91fe-e1f74549ae4d",
   "metadata": {},
   "outputs": [],
   "source": [
    "np.arange(0, n, )"
   ]
  },
  {
   "cell_type": "code",
   "execution_count": 219,
   "id": "235adafa-04ce-40fc-bd9a-4182b4933349",
   "metadata": {},
   "outputs": [
    {
     "ename": "ValueError",
     "evalue": "low >= high",
     "output_type": "error",
     "traceback": [
      "\u001b[31m---------------------------------------------------------------------------\u001b[39m",
      "\u001b[31mValueError\u001b[39m                                Traceback (most recent call last)",
      "\u001b[36mCell\u001b[39m\u001b[36m \u001b[39m\u001b[32mIn[219]\u001b[39m\u001b[32m, line 1\u001b[39m\n\u001b[32m----> \u001b[39m\u001b[32m1\u001b[39m rand_matrix = \u001b[43mnp\u001b[49m\u001b[43m.\u001b[49m\u001b[43mrandom\u001b[49m\u001b[43m.\u001b[49m\u001b[43mrandint\u001b[49m\u001b[43m(\u001b[49m\u001b[43mn\u001b[49m\u001b[43m*\u001b[49m\u001b[43mcommunication\u001b[49m\u001b[43m,\u001b[49m\u001b[43m \u001b[49m\u001b[43mn\u001b[49m\u001b[43m)\u001b[49m\n",
      "\u001b[36mFile \u001b[39m\u001b[32mnumpy/random/mtrand.pyx:796\u001b[39m, in \u001b[36mnumpy.random.mtrand.RandomState.randint\u001b[39m\u001b[34m()\u001b[39m\n",
      "\u001b[36mFile \u001b[39m\u001b[32mnumpy/random/_bounded_integers.pyx:1334\u001b[39m, in \u001b[36mnumpy.random._bounded_integers._rand_int64\u001b[39m\u001b[34m()\u001b[39m\n",
      "\u001b[31mValueError\u001b[39m: low >= high"
     ]
    }
   ],
   "source": [
    "rand_matrix = np.random.randint(0, n, ()"
   ]
  },
  {
   "cell_type": "code",
   "execution_count": null,
   "id": "908d5319-e1f3-465b-b3b7-b9b7aded62e0",
   "metadata": {},
   "outputs": [],
   "source": [
    "rand_matrix"
   ]
  },
  {
   "cell_type": "code",
   "execution_count": null,
   "id": "5089437d-8692-4dec-9f0c-17160677854b",
   "metadata": {},
   "outputs": [],
   "source": []
  },
  {
   "cell_type": "code",
   "execution_count": 213,
   "id": "bc99b9ed-edb4-4ac2-9060-c2d779ee1dc6",
   "metadata": {},
   "outputs": [],
   "source": [
    "rand_matrix = "
   ]
  },
  {
   "cell_type": "code",
   "execution_count": 216,
   "id": "d703433b-e7fd-47cc-aeda-3999dfdeeba9",
   "metadata": {},
   "outputs": [
    {
     "data": {
      "text/plain": [
       "array([[0.27205858, 0.23732663, 0.40268952, ..., 0.81505155, 0.1042801 ,\n",
       "        0.24695242],\n",
       "       [0.49812111, 0.03833008, 0.40773721, ..., 0.54203497, 0.76406831,\n",
       "        0.87314487],\n",
       "       [0.04697233, 0.94823014, 0.11003324, ..., 0.75864305, 0.78551691,\n",
       "        0.94831969],\n",
       "       ...,\n",
       "       [0.87702503, 0.0916341 , 0.33866023, ..., 0.28355447, 0.49494243,\n",
       "        0.34388833],\n",
       "       [0.17418469, 0.12765006, 0.30148623, ..., 0.50906588, 0.36100239,\n",
       "        0.6753662 ],\n",
       "       [0.11512703, 0.33495142, 0.70709196, ..., 0.90418455, 0.79929717,\n",
       "        0.12375688]], shape=(10000, 100))"
      ]
     },
     "execution_count": 216,
     "metadata": {},
     "output_type": "execute_result"
    }
   ],
   "source": [
    "rand_matrix"
   ]
  },
  {
   "cell_type": "code",
   "execution_count": null,
   "id": "473ba69e-d140-4a1d-9329-ff95062aff21",
   "metadata": {},
   "outputs": [],
   "source": []
  },
  {
   "cell_type": "code",
   "execution_count": 217,
   "id": "b559c4c0-11c1-4c41-bc6a-ccf56c5d31fe",
   "metadata": {},
   "outputs": [
    {
     "data": {
      "text/plain": [
       "array([[ 3, 28, 34, ..., 70, 90, 96],\n",
       "       [49, 83,  1, ..., 33, 95, 28],\n",
       "       [58, 12, 50, ..., 89, 48, 16],\n",
       "       ...,\n",
       "       [84, 63, 67, ..., 11, 47, 16],\n",
       "       [12, 89, 41, ..., 47, 27, 13],\n",
       "       [15, 38, 72, ..., 16, 40, 71]], shape=(10000, 100))"
      ]
     },
     "execution_count": 217,
     "metadata": {},
     "output_type": "execute_result"
    }
   ],
   "source": [
    "np.argsort(rand_matrix, axis=1)"
   ]
  },
  {
   "cell_type": "code",
   "execution_count": null,
   "id": "2be95fec-de0a-4648-9fac-5ee37622e554",
   "metadata": {},
   "outputs": [],
   "source": []
  },
  {
   "cell_type": "code",
   "execution_count": 261,
   "id": "a379b034-fce4-4f1c-b93b-56a3bb29ae1b",
   "metadata": {},
   "outputs": [
    {
     "data": {
      "text/plain": [
       "array([[0, 1, 1, ..., 0, 1, 0],\n",
       "       [1, 1, 1, ..., 1, 0, 1],\n",
       "       [1, 1, 1, ..., 0, 0, 0],\n",
       "       ...,\n",
       "       [1, 1, 0, ..., 0, 1, 0],\n",
       "       [0, 1, 1, ..., 1, 0, 0],\n",
       "       [0, 1, 1, ..., 1, 1, 0]], shape=(100, 100), dtype=uint8)"
      ]
     },
     "execution_count": 261,
     "metadata": {},
     "output_type": "execute_result"
    }
   ],
   "source": [
    "rep"
   ]
  },
  {
   "cell_type": "code",
   "execution_count": 259,
   "id": "b0667a91-14fc-4e8b-b502-10ba429b320b",
   "metadata": {},
   "outputs": [],
   "source": [
    "vszamok = np.argsort(np.random.rand(n*communication, n), axis=1)[:, :3]"
   ]
  },
  {
   "cell_type": "code",
   "execution_count": 260,
   "id": "d5c24a5b-f6a0-4099-a113-1e4e843a5fa5",
   "metadata": {},
   "outputs": [
    {
     "data": {
      "text/plain": [
       "array([[70, 47, 35],\n",
       "       [20, 41, 45],\n",
       "       [94,  2, 28],\n",
       "       ...,\n",
       "       [68, 94, 10],\n",
       "       [67,  4, 52],\n",
       "       [37, 40,  7]], shape=(10000, 3))"
      ]
     },
     "execution_count": 260,
     "metadata": {},
     "output_type": "execute_result"
    }
   ],
   "source": [
    "vszamok"
   ]
  },
  {
   "cell_type": "code",
   "execution_count": null,
   "id": "95ddb49c-6baa-4531-9a57-38fd6fab29f0",
   "metadata": {},
   "outputs": [],
   "source": [
    "# reputation[l][n] = reputation[m][n]\n",
    "reputation[vszamok]"
   ]
  },
  {
   "cell_type": "code",
   "execution_count": null,
   "id": "a8240135-234e-4491-8358-3e455bb8acc1",
   "metadata": {},
   "outputs": [],
   "source": []
  },
  {
   "cell_type": "code",
   "execution_count": 267,
   "id": "c508cd5d-8b57-456d-91a9-34b2da1de5a4",
   "metadata": {},
   "outputs": [
    {
     "data": {
      "text/plain": [
       "array([70, 20, 94, ..., 68, 67, 37], shape=(10000,))"
      ]
     },
     "execution_count": 267,
     "metadata": {},
     "output_type": "execute_result"
    }
   ],
   "source": [
    "# l\n",
    "vszamok[:, 0]"
   ]
  },
  {
   "cell_type": "code",
   "execution_count": 268,
   "id": "e3989916-435e-46b3-9400-b86187a5ba68",
   "metadata": {},
   "outputs": [
    {
     "data": {
      "text/plain": [
       "array([47, 41,  2, ..., 94,  4, 40], shape=(10000,))"
      ]
     },
     "execution_count": 268,
     "metadata": {},
     "output_type": "execute_result"
    }
   ],
   "source": [
    "# m\n",
    "vszamok[:, 1]"
   ]
  },
  {
   "cell_type": "code",
   "execution_count": 269,
   "id": "7d5a4898-ad90-4c89-b81e-fb2b6018f8d7",
   "metadata": {},
   "outputs": [
    {
     "data": {
      "text/plain": [
       "array([35, 45, 28, ..., 10, 52,  7], shape=(10000,))"
      ]
     },
     "execution_count": 269,
     "metadata": {},
     "output_type": "execute_result"
    }
   ],
   "source": [
    "# n\n",
    "vszamok[:, 2]"
   ]
  },
  {
   "cell_type": "code",
   "execution_count": null,
   "id": "b82f0915-c7ef-4428-88b2-3856943f2116",
   "metadata": {},
   "outputs": [],
   "source": []
  },
  {
   "cell_type": "code",
   "execution_count": 273,
   "id": "d1a12459-e073-4a08-97ae-f47135e33812",
   "metadata": {},
   "outputs": [
    {
     "data": {
      "text/plain": [
       "array([1, 1, 0, ..., 0, 0, 1], shape=(10000,), dtype=uint8)"
      ]
     },
     "execution_count": 273,
     "metadata": {},
     "output_type": "execute_result"
    }
   ],
   "source": [
    "# az informátor vélemény listája minden loop-ban\n",
    "reputation[vszamok[:, 1]]"
   ]
  },
  {
   "cell_type": "code",
   "execution_count": null,
   "id": "fdc53e1b-3184-41fe-b567-dfce56fb64fb",
   "metadata": {},
   "outputs": [],
   "source": []
  },
  {
   "cell_type": "code",
   "execution_count": 274,
   "id": "cd6afa12-4755-4e26-8d38-ab6e89a7f1a0",
   "metadata": {},
   "outputs": [
    {
     "data": {
      "text/plain": [
       "array([1, 1, 0, ..., 0, 0, 1], shape=(10000,), dtype=uint8)"
      ]
     },
     "execution_count": 274,
     "metadata": {},
     "output_type": "execute_result"
    }
   ],
   "source": [
    "# az informátor vélemény listája minden loop-ban, de csak n témaszemélyről\n",
    "reputation[vszamok[:, 1], vszamok[:, 2]]"
   ]
  },
  {
   "cell_type": "code",
   "execution_count": null,
   "id": "04ad3df0-6c6b-415d-9767-6376eb35fc7a",
   "metadata": {},
   "outputs": [],
   "source": []
  },
  {
   "cell_type": "code",
   "execution_count": null,
   "id": "fdc9da68-0092-4d73-a75c-9736dc610ea0",
   "metadata": {},
   "outputs": [],
   "source": []
  },
  {
   "cell_type": "code",
   "execution_count": 279,
   "id": "c10a0e5b-53e0-48e8-b69f-e910d6001e6a",
   "metadata": {},
   "outputs": [
    {
     "data": {
      "text/plain": [
       "array([1, 1, 1, ..., 1, 1, 0], shape=(10000,), dtype=uint8)"
      ]
     },
     "execution_count": 279,
     "metadata": {},
     "output_type": "execute_result"
    }
   ],
   "source": [
    "# a hallgató l véleménye n témaszemélyről\n",
    "reputation[vszamok[:, 0], vszamok[:, 2]]"
   ]
  },
  {
   "cell_type": "code",
   "execution_count": null,
   "id": "ee8e80c9-2adf-4109-a1b6-6df31b47fccf",
   "metadata": {},
   "outputs": [],
   "source": []
  },
  {
   "cell_type": "code",
   "execution_count": 285,
   "id": "5a065294-4b27-4de8-a790-a3a44b97ba16",
   "metadata": {},
   "outputs": [
    {
     "data": {
      "text/plain": [
       "np.uint8(0)"
      ]
     },
     "execution_count": 285,
     "metadata": {},
     "output_type": "execute_result"
    }
   ],
   "source": [
    "reputation[37, 7]"
   ]
  },
  {
   "cell_type": "code",
   "execution_count": null,
   "id": "7f286da7-29cd-4abf-aca0-25ea5177149e",
   "metadata": {},
   "outputs": [],
   "source": []
  },
  {
   "cell_type": "code",
   "execution_count": 286,
   "id": "e7d3f297-d1f9-465d-a6d3-2938a357247e",
   "metadata": {},
   "outputs": [],
   "source": [
    "reputation[vszamok[:, 0], vszamok[:, 2]] = reputation[vszamok[:, 1], vszamok[:, 2]]"
   ]
  },
  {
   "cell_type": "code",
   "execution_count": null,
   "id": "99a1fcf4-65b8-4fd8-b43d-d19fde5614db",
   "metadata": {},
   "outputs": [],
   "source": []
  },
  {
   "cell_type": "code",
   "execution_count": null,
   "id": "7ad21a4e-066a-49f7-b0f5-51d8217deefa",
   "metadata": {},
   "outputs": [],
   "source": [
    "reputation[vszamok[:, 0], vszamok[:, 2]] = reputation[vszamok[:, 1], vszamok[:, 2]]"
   ]
  },
  {
   "cell_type": "code",
   "execution_count": null,
   "id": "5af9b9d1-d419-4bb1-81d9-3051c3494467",
   "metadata": {},
   "outputs": [],
   "source": []
  },
  {
   "cell_type": "code",
   "execution_count": 287,
   "id": "f2daf6cc-4474-4c84-a1e7-7d2ef285b688",
   "metadata": {},
   "outputs": [
    {
     "data": {
      "text/plain": [
       "array([1, 1, 0, ..., 0, 0, 1], shape=(10000,), dtype=uint8)"
      ]
     },
     "execution_count": 287,
     "metadata": {},
     "output_type": "execute_result"
    }
   ],
   "source": [
    "reputation[vszamok[:, 0], vszamok[:, 2]]"
   ]
  },
  {
   "cell_type": "code",
   "execution_count": null,
   "id": "43fb5060-7af7-4b9a-9ff6-b750ae957fbd",
   "metadata": {},
   "outputs": [],
   "source": []
  },
  {
   "cell_type": "code",
   "execution_count": null,
   "id": "23bc9e4c-df94-4c26-9f4d-4ef94e17b8be",
   "metadata": {},
   "outputs": [],
   "source": []
  },
  {
   "cell_type": "code",
   "execution_count": 298,
   "id": "a9860f0b-3ed6-4e70-87ca-56365df301d1",
   "metadata": {},
   "outputs": [],
   "source": [
    "\n",
    "mask = reputation[vszamok[:, 0], vszamok[:, 1]] == 0  # l hallgaó véleménye az m informátorról, csak azok a sorok ahol good\n",
    "reputation[vszamok[:, 0], vszamok[:, 2]][mask] = reputation[vszamok[:, 1], vszamok[:, 2]][mask]"
   ]
  },
  {
   "cell_type": "code",
   "execution_count": null,
   "id": "5d97e36b-4376-4070-9ce1-68d1492bf182",
   "metadata": {},
   "outputs": [],
   "source": []
  },
  {
   "cell_type": "code",
   "execution_count": 297,
   "id": "3578a7e0-8d70-4941-b00a-3afa10539b0c",
   "metadata": {},
   "outputs": [],
   "source": []
  },
  {
   "cell_type": "code",
   "execution_count": null,
   "id": "75a5a515-dbad-4c42-88f3-3c43071757dc",
   "metadata": {},
   "outputs": [],
   "source": []
  },
  {
   "cell_type": "code",
   "execution_count": 299,
   "id": "d7f2e87e-9c6e-4562-938a-79b8f966fffd",
   "metadata": {},
   "outputs": [],
   "source": [
    "vszamok = np.argsort(np.random.rand(n * communication, n), axis=1)[:, :3]  # (l,m,n), len=n*communication"
   ]
  },
  {
   "cell_type": "code",
   "execution_count": 300,
   "id": "592f4b55-93b4-45e0-8de4-73749c6e4c0b",
   "metadata": {},
   "outputs": [
    {
     "data": {
      "text/plain": [
       "array([[73, 70, 17],\n",
       "       [91, 59, 87],\n",
       "       [71, 24, 38],\n",
       "       ...,\n",
       "       [69,  4, 16],\n",
       "       [48, 13, 46],\n",
       "       [65, 77, 47]], shape=(10000, 3))"
      ]
     },
     "execution_count": 300,
     "metadata": {},
     "output_type": "execute_result"
    }
   ],
   "source": [
    "vszamok"
   ]
  },
  {
   "cell_type": "code",
   "execution_count": null,
   "id": "57b345f7-03a5-4e43-806b-c3dff92b2909",
   "metadata": {},
   "outputs": [],
   "source": []
  },
  {
   "cell_type": "code",
   "execution_count": null,
   "id": "4ba8a4a0-8f37-4ec5-aa25-bab24a9cc82d",
   "metadata": {},
   "outputs": [],
   "source": []
  },
  {
   "cell_type": "code",
   "execution_count": 296,
   "id": "ad2efecc-b898-4cde-9283-5fbebebd8aee",
   "metadata": {},
   "outputs": [
    {
     "data": {
      "text/plain": [
       "array([1, 0, 0, ..., 1, 0, 1], shape=(4858,), dtype=uint8)"
      ]
     },
     "execution_count": 296,
     "metadata": {},
     "output_type": "execute_result"
    }
   ],
   "source": []
  },
  {
   "cell_type": "code",
   "execution_count": null,
   "id": "4b1064a5-941b-40bd-8382-5bf319b26f21",
   "metadata": {},
   "outputs": [],
   "source": []
  },
  {
   "cell_type": "code",
   "execution_count": null,
   "id": "8678606d-09ea-4dd7-be37-89ede3578600",
   "metadata": {},
   "outputs": [],
   "source": []
  },
  {
   "cell_type": "code",
   "execution_count": null,
   "id": "240742be-3e4d-4ba1-a53f-20b8be45d37c",
   "metadata": {},
   "outputs": [],
   "source": []
  },
  {
   "cell_type": "code",
   "execution_count": 301,
   "id": "c80c3aaf-1ae9-4d50-aa3d-6701e10df813",
   "metadata": {},
   "outputs": [
    {
     "name": "stdout",
     "output_type": "stream",
     "text": [
      "CPU times: user 2 μs, sys: 0 ns, total: 2 μs\n",
      "Wall time: 5.01 μs\n"
     ]
    }
   ],
   "source": [
    "%time\n",
    "# miutám minden pár játszott jön a kommunikációs kör\n",
    "vszamok = np.argsort(np.random.rand(n * communication, n), axis=1)[:, :3]  # (l,m,n), len=n*communication\n",
    "\n",
    "if com_mode == 1:\n",
    "    reputation[vszamok[:, 0], vszamok[:, 2]] = reputation[vszamok[:, 1], vszamok[:, 2]]\n",
    "elif com_mode == 2:\n",
    "    mask = reputation[vszamok[:, 0], vszamok[:, 1]] == 0  # l hallgaó véleménye az m informátorról, csak azok a sorok ahol good\n",
    "    reputation[vszamok[:, 0], vszamok[:, 2]][mask] = reputation[vszamok[:, 1], vszamok[:, 2]][mask]\n",
    "else:\n",
    "    raise Exception('A com_mode változó értéke csak 1 vagy 2 lehet!')"
   ]
  },
  {
   "cell_type": "code",
   "execution_count": null,
   "id": "146c6e92-3603-431e-be69-90d53531b83b",
   "metadata": {},
   "outputs": [],
   "source": []
  },
  {
   "cell_type": "code",
   "execution_count": null,
   "id": "a124eea2-dc0a-4ad1-8b1d-219562007313",
   "metadata": {},
   "outputs": [],
   "source": []
  },
  {
   "cell_type": "code",
   "execution_count": 302,
   "id": "e93f05b3-c66b-4d02-ae7a-bb60ceb01d50",
   "metadata": {},
   "outputs": [],
   "source": [
    "vszamok = np.random.randint(0, n, size=(n * communication, 3))"
   ]
  },
  {
   "cell_type": "code",
   "execution_count": 303,
   "id": "a162bd43-3187-450a-a0e7-e41e22f777ab",
   "metadata": {},
   "outputs": [
    {
     "data": {
      "text/plain": [
       "array([[ 2,  5, 17],\n",
       "       [ 6, 25, 12],\n",
       "       [ 5, 37, 75],\n",
       "       ...,\n",
       "       [41,  5, 80],\n",
       "       [69, 70, 52],\n",
       "       [ 6, 61, 98]], shape=(10000, 3))"
      ]
     },
     "execution_count": 303,
     "metadata": {},
     "output_type": "execute_result"
    }
   ],
   "source": [
    "vszamok"
   ]
  },
  {
   "cell_type": "code",
   "execution_count": null,
   "id": "c035f0d7-d1ab-4f3c-a9e4-66884c3511a0",
   "metadata": {},
   "outputs": [],
   "source": []
  },
  {
   "cell_type": "code",
   "execution_count": null,
   "id": "b2c5437c-c67b-4574-b190-8242123af4cd",
   "metadata": {},
   "outputs": [],
   "source": []
  },
  {
   "cell_type": "code",
   "execution_count": 304,
   "id": "39851931-7ee5-4b6a-bebe-9beed8172070",
   "metadata": {},
   "outputs": [],
   "source": [
    "parok = np.random.permutation(n).reshape(-1, 2)"
   ]
  },
  {
   "cell_type": "code",
   "execution_count": 305,
   "id": "9e2da13d-ff4a-4d08-bf46-004500d7f37d",
   "metadata": {},
   "outputs": [
    {
     "data": {
      "text/plain": [
       "array([[36,  9],\n",
       "       [56,  4],\n",
       "       [60, 58],\n",
       "       [27, 26],\n",
       "       [51,  1],\n",
       "       [ 7, 19],\n",
       "       [70, 30],\n",
       "       [67, 10],\n",
       "       [71, 21],\n",
       "       [24, 76],\n",
       "       [61, 73],\n",
       "       [23, 79],\n",
       "       [63, 18],\n",
       "       [96, 44],\n",
       "       [11, 49],\n",
       "       [17, 46],\n",
       "       [99, 52],\n",
       "       [64, 86],\n",
       "       [77, 57],\n",
       "       [ 5, 42],\n",
       "       [59, 28],\n",
       "       [90, 89],\n",
       "       [80, 38],\n",
       "       [ 2, 78],\n",
       "       [66, 29],\n",
       "       [65, 12],\n",
       "       [84, 68],\n",
       "       [92, 82],\n",
       "       [81, 40],\n",
       "       [94, 97],\n",
       "       [13, 93],\n",
       "       [45, 22],\n",
       "       [16, 55],\n",
       "       [48, 62],\n",
       "       [14, 54],\n",
       "       [72, 33],\n",
       "       [50, 95],\n",
       "       [69, 83],\n",
       "       [39, 98],\n",
       "       [ 8, 37],\n",
       "       [91, 74],\n",
       "       [31, 15],\n",
       "       [34, 43],\n",
       "       [32, 75],\n",
       "       [87,  3],\n",
       "       [85, 47],\n",
       "       [ 0,  6],\n",
       "       [41, 25],\n",
       "       [53, 20],\n",
       "       [88, 35]])"
      ]
     },
     "execution_count": 305,
     "metadata": {},
     "output_type": "execute_result"
    }
   ],
   "source": [
    "parok"
   ]
  },
  {
   "cell_type": "code",
   "execution_count": null,
   "id": "0a876539-d12c-41c1-8f9e-342c8e0fbef2",
   "metadata": {},
   "outputs": [],
   "source": []
  },
  {
   "cell_type": "code",
   "execution_count": 306,
   "id": "62cfc183-126c-44bc-be3d-dc3958d7d776",
   "metadata": {},
   "outputs": [],
   "source": [
    "rec_hirnev = reputation[parok[:, 0], parok[:, 1]]"
   ]
  },
  {
   "cell_type": "code",
   "execution_count": 326,
   "id": "ea90573f-c0f9-4414-a4c8-5c1acdb26816",
   "metadata": {},
   "outputs": [
    {
     "data": {
      "text/plain": [
       "array([1, 1, 0, 1, 1, 1, 1, 0, 1, 1, 0, 1, 1, 1, 1, 0, 1, 1, 1, 1, 0, 0,\n",
       "       1, 0, 1, 0, 0, 0, 0, 0, 1, 0, 0, 0, 0, 1, 1, 0, 0, 0, 0, 0, 1, 0,\n",
       "       1, 1, 1, 0, 1, 0], dtype=uint8)"
      ]
     },
     "execution_count": 326,
     "metadata": {},
     "output_type": "execute_result"
    }
   ],
   "source": [
    "rec_hirnev"
   ]
  },
  {
   "cell_type": "code",
   "execution_count": null,
   "id": "f745ab26-3388-48c8-8b43-637a9b066d1c",
   "metadata": {},
   "outputs": [],
   "source": []
  },
  {
   "cell_type": "code",
   "execution_count": 368,
   "id": "86e9eb2c-54f3-4823-b8ae-a69d41574a0f",
   "metadata": {},
   "outputs": [
    {
     "data": {
      "text/plain": [
       "array([1, 1, 0, 1, 1, 1, 1, 0, 1, 1, 0, 1, 1, 1, 1, 0, 1, 1, 1, 1, 0, 0,\n",
       "       1, 0, 1, 0, 0, 0, 0, 0, 1, 0, 0, 0, 0, 1, 1, 0, 0, 0, 0, 0, 1, 0,\n",
       "       1, 1, 1, 0, 1, 0], dtype=uint8)"
      ]
     },
     "execution_count": 368,
     "metadata": {},
     "output_type": "execute_result"
    }
   ],
   "source": [
    "rec_hirnev"
   ]
  },
  {
   "cell_type": "code",
   "execution_count": 382,
   "id": "6af9dc8a-7639-470f-af73-94104c98c72b",
   "metadata": {},
   "outputs": [
    {
     "data": {
      "text/plain": [
       "array([1, 1, 0, 1, 1, 1, 1, 0, 1, 1, 0, 1, 1, 1, 1, 0, 1, 1, 1, 1, 0, 0,\n",
       "       1, 0, 1, 0, 0, 0, 0, 0, 1, 0, 0, 0, 0, 1, 1, 0, 0, 0, 0, 0, 1, 0,\n",
       "       1, 1, 1, 0, 1, 0], dtype=uint8)"
      ]
     },
     "execution_count": 382,
     "metadata": {},
     "output_type": "execute_result"
    }
   ],
   "source": [
    "np.bitwise_xor(rec_hirnev, (np.random.rand(int(n/2)) <= e_rep)) # == rec_hirnev"
   ]
  },
  {
   "cell_type": "code",
   "execution_count": null,
   "id": "8e29c971-03bc-4894-a48e-cc4157f9bd4b",
   "metadata": {},
   "outputs": [],
   "source": []
  },
  {
   "cell_type": "code",
   "execution_count": 390,
   "id": "c8671137-04a6-4429-a86a-602857037ab2",
   "metadata": {},
   "outputs": [],
   "source": [
    "parok = np.random.permutation(n).reshape(-1, 2)"
   ]
  },
  {
   "cell_type": "code",
   "execution_count": 391,
   "id": "d9258d33-e3d1-4957-81d6-18d6da5e6090",
   "metadata": {},
   "outputs": [],
   "source": [
    "rec_hirnev = reputation[parok[:, 0], parok[:, 1]]"
   ]
  },
  {
   "cell_type": "code",
   "execution_count": 392,
   "id": "cb70167c-44da-44c6-b9f9-0747f31a0fae",
   "metadata": {},
   "outputs": [],
   "source": [
    "donor_action = strategy[parok[:, 0]][np.arange(int(n/2)), np.bitwise_xor(rec_hirnev, (np.random.rand(int(n/2)) <= e_rep))]"
   ]
  },
  {
   "cell_type": "code",
   "execution_count": null,
   "id": "1bc9c9e1-3bfc-44e8-89bb-4774188be808",
   "metadata": {},
   "outputs": [],
   "source": []
  },
  {
   "cell_type": "code",
   "execution_count": 398,
   "id": "2cb1fafb-55e1-45b0-9e83-9fa12473e84e",
   "metadata": {},
   "outputs": [],
   "source": [
    "times_of_cooperation = donor_action[donor_action == 0].size"
   ]
  },
  {
   "cell_type": "code",
   "execution_count": null,
   "id": "07694dbe-bd28-4bc5-a387-c7678d7efee9",
   "metadata": {},
   "outputs": [],
   "source": []
  },
  {
   "cell_type": "code",
   "execution_count": null,
   "id": "7a63effc-4980-4a2d-8607-4a50a03d3557",
   "metadata": {},
   "outputs": [],
   "source": []
  },
  {
   "cell_type": "code",
   "execution_count": null,
   "id": "e1fb517d-8250-4fae-b2a1-d71215955aa6",
   "metadata": {},
   "outputs": [],
   "source": []
  },
  {
   "cell_type": "code",
   "execution_count": null,
   "id": "6b4ea8cd-cbce-4230-a35a-59ccf427ed0a",
   "metadata": {},
   "outputs": [],
   "source": []
  }
 ],
 "metadata": {
  "kernelspec": {
   "display_name": "Python 3 (ipykernel)",
   "language": "python",
   "name": "python3"
  },
  "language_info": {
   "codemirror_mode": {
    "name": "ipython",
    "version": 3
   },
   "file_extension": ".py",
   "mimetype": "text/x-python",
   "name": "python",
   "nbconvert_exporter": "python",
   "pygments_lexer": "ipython3",
   "version": "3.13.1"
  }
 },
 "nbformat": 4,
 "nbformat_minor": 5
}
