{
 "cells": [
  {
   "cell_type": "code",
   "execution_count": 2,
   "id": "627793ef-1079-493a-a6a3-bd5eb0713f0c",
   "metadata": {},
   "outputs": [],
   "source": [
    "import numpy as np"
   ]
  },
  {
   "cell_type": "code",
   "execution_count": 46,
   "id": "f5ccbfa2-370d-46e0-9e30-e7e6725512b5",
   "metadata": {},
   "outputs": [],
   "source": [
    "# alap változók\n",
    "tn = ['G', 'B',\n",
    "      'B', 'G',\n",
    "      'B', 'B']\n",
    "n=100\n",
    "generations=1000\n",
    "rounds=10\n",
    "fr=(0.8, 'CD')\n",
    "init_good=0.5\n",
    "mu=0.02\n",
    "epsilon=0.01\n",
    "e_rep=0\n",
    "e_act=0\n",
    "c=3\n",
    "b=9\n",
    "alpha=1\n",
    "beta=4\n",
    "communication=100\n",
    "com_mode=1\n",
    "init_correlation=0"
   ]
  },
  {
   "cell_type": "code",
   "execution_count": 47,
   "id": "65198912-523b-4360-92e7-3a514f066398",
   "metadata": {},
   "outputs": [],
   "source": [
    "# belső függvények\n",
    "def r_to_num(r):\n",
    "    return 0 if r == 'G' else 1\n",
    "\n",
    "def s_to_num(s):\n",
    "    match s:\n",
    "        case 'C':\n",
    "            return 0\n",
    "        case 'D':\n",
    "            return 1\n",
    "        case 'P':\n",
    "            return 2\n",
    "\n",
    "def _set_strategy(n, fr):\n",
    "    strategy = np.zeros((n, 2), dtype=np.uint8)\n",
    "    th = int(n * fr[0])\n",
    "\n",
    "    # megadott %-ú ágenshez beállítom a kezdetben többségi viselkedési szabályt\n",
    "    strategy[:th, 0] = s_to_num(fr[1][0])\n",
    "    strategy[:th, 1] = s_to_num(fr[1][1])\n",
    "    # maradék ágensek véletlenszerű cselekvési szabályt kapnak\n",
    "    strategy[th:, :] = np.random.randint(0, 3, size=(n - th, 2))\n",
    "\n",
    "    return strategy\n",
    "\n",
    "def _set_private_reputation(n, init_good, init_correlation):\n",
    "\n",
    "    if init_correlation==0:\n",
    "        # Minden játékos minden másik játékosról függetlenül vélekedik. Minden reputation[m][n] érték önállóan véletlenszerű\n",
    "        return (np.random.rand(n, n) > init_good).astype(np.uint8)\n",
    "\n",
    "    elif init_correlation==1:\n",
    "        # Mindenki ugyanúgy látja adott játékost, tehát a sorok (kezdetben) megegyeznek\n",
    "        return np.repeat((np.random.rand(n) > init_good).astype(np.uint8)[np.newaxis, :], n, axis=0)\n",
    "\n",
    "    else:\n",
    "        raise Exception(\"init_correlation értéke csak 0 vagy 1 lehet!\")"
   ]
  },
  {
   "cell_type": "markdown",
   "id": "73ce0c10-7bcd-46b5-8010-83cf7a55ef4d",
   "metadata": {},
   "source": [
    "---\n"
   ]
  },
  {
   "cell_type": "code",
   "execution_count": 48,
   "id": "e5544b2c-577d-4f38-b32b-988a76c137a1",
   "metadata": {},
   "outputs": [],
   "source": [
    "# generált változók\n",
    "public_norm = np.array([r_to_num(t) for t in tn], dtype=np.uint8).reshape(3, 2)\n",
    "strategy = _set_strategy(n, fr)\n",
    "reputation = _set_private_reputation(n, init_good, init_correlation)"
   ]
  },
  {
   "cell_type": "code",
   "execution_count": 49,
   "id": "8b05ba45-705f-4f34-8de6-9a332cd29ff1",
   "metadata": {},
   "outputs": [
    {
     "data": {
      "text/plain": [
       "array([[0, 1],\n",
       "       [1, 0],\n",
       "       [1, 1]], dtype=uint8)"
      ]
     },
     "execution_count": 49,
     "metadata": {},
     "output_type": "execute_result"
    }
   ],
   "source": [
    "public_norm"
   ]
  },
  {
   "cell_type": "code",
   "execution_count": 45,
   "id": "15197923-b152-4f14-8622-7f0ff6f37e8f",
   "metadata": {},
   "outputs": [
    {
     "data": {
      "text/plain": [
       "array([[1, 0, 1, ..., 1, 0, 1],\n",
       "       [0, 0, 0, ..., 0, 0, 1],\n",
       "       [0, 0, 0, ..., 0, 1, 1],\n",
       "       ...,\n",
       "       [0, 1, 0, ..., 0, 1, 0],\n",
       "       [1, 0, 0, ..., 0, 0, 0],\n",
       "       [0, 1, 1, ..., 0, 0, 1]], shape=(100, 100), dtype=uint8)"
      ]
     },
     "execution_count": 45,
     "metadata": {},
     "output_type": "execute_result"
    }
   ],
   "source": [
    "reputation"
   ]
  },
  {
   "cell_type": "code",
   "execution_count": null,
   "id": "c2ff51b5-e6e0-4db8-9e4e-3c75b3e71fc9",
   "metadata": {},
   "outputs": [],
   "source": []
  },
  {
   "cell_type": "code",
   "execution_count": null,
   "id": "44e625a3-77a2-4956-b349-ee61617246d0",
   "metadata": {},
   "outputs": [],
   "source": []
  },
  {
   "cell_type": "markdown",
   "id": "180d2384-3b31-4bf7-bf24-a6dedeafcc07",
   "metadata": {},
   "source": [
    "## Donor action vektoralizálása"
   ]
  },
  {
   "cell_type": "code",
   "execution_count": 52,
   "id": "cf5afa27-d695-4621-b8ac-ca637e04741d",
   "metadata": {},
   "outputs": [],
   "source": [
    "# cliklus változók teszteléshez\n",
    "donoridx = 20\n",
    "recipientidx = 45\n",
    "donor_action = 2     # coperal\n",
    "rec_hirnev = 1"
   ]
  },
  {
   "cell_type": "code",
   "execution_count": null,
   "id": "d357c649-54bb-4a1c-add8-797da380acc9",
   "metadata": {},
   "outputs": [],
   "source": []
  },
  {
   "cell_type": "code",
   "execution_count": 13,
   "id": "1af62812-9b71-4b67-a06d-3fc400542bc0",
   "metadata": {},
   "outputs": [],
   "source": [
    "# A hibákat XOR-ral tudjuk kezelni: a rec_hirnev 0<->1 átfordul, ha hiba van\n",
    "donor_action = strategy[donoridx][np.bitwise_xor(rec_hirnev, (np.random.rand() <= e_rep))]"
   ]
  },
  {
   "cell_type": "code",
   "execution_count": 14,
   "id": "e3dbe92f-0dff-42b1-97f7-40dfe3677a51",
   "metadata": {},
   "outputs": [
    {
     "data": {
      "text/plain": [
       "np.uint8(1)"
      ]
     },
     "execution_count": 14,
     "metadata": {},
     "output_type": "execute_result"
    }
   ],
   "source": [
    "donor_action"
   ]
  },
  {
   "cell_type": "code",
   "execution_count": 15,
   "id": "2b772eba-45e9-4884-ac79-da68bd297c5d",
   "metadata": {},
   "outputs": [
    {
     "data": {
      "text/plain": [
       "array([0, 1], dtype=uint8)"
      ]
     },
     "execution_count": 15,
     "metadata": {},
     "output_type": "execute_result"
    }
   ],
   "source": [
    "strategy[20]"
   ]
  },
  {
   "cell_type": "code",
   "execution_count": 16,
   "id": "c168c880-5975-44c5-8a7f-b2999e53f1ea",
   "metadata": {},
   "outputs": [
    {
     "data": {
      "text/plain": [
       "array([0, 2], dtype=uint8)"
      ]
     },
     "execution_count": 16,
     "metadata": {},
     "output_type": "execute_result"
    }
   ],
   "source": [
    "strategy[80]"
   ]
  },
  {
   "cell_type": "code",
   "execution_count": null,
   "id": "e08b7567-fc06-4108-b999-3ba8d25b6267",
   "metadata": {},
   "outputs": [],
   "source": []
  },
  {
   "cell_type": "code",
   "execution_count": null,
   "id": "e847d7c3-8398-4354-a6ad-706d8fbe90c8",
   "metadata": {},
   "outputs": [],
   "source": []
  },
  {
   "cell_type": "code",
   "execution_count": null,
   "id": "d69db79a-0ae3-4057-8303-ebf79d8b75a7",
   "metadata": {},
   "outputs": [],
   "source": []
  },
  {
   "cell_type": "code",
   "execution_count": 18,
   "id": "58c61b1e-7392-405c-97ff-c70bd0c79bf5",
   "metadata": {},
   "outputs": [],
   "source": [
    "donor_action = strategy[donoridx][np.bitwise_xor(rec_hirnev, (np.random.rand() <= e_rep))]"
   ]
  },
  {
   "cell_type": "code",
   "execution_count": 19,
   "id": "34236bb3-16bc-40a9-bca4-b1c1387e9a37",
   "metadata": {},
   "outputs": [
    {
     "data": {
      "text/plain": [
       "np.uint8(1)"
      ]
     },
     "execution_count": 19,
     "metadata": {},
     "output_type": "execute_result"
    }
   ],
   "source": [
    "donor_action"
   ]
  },
  {
   "cell_type": "code",
   "execution_count": 20,
   "id": "c34adf17-3f5b-4868-98ff-5bc94e9db3d1",
   "metadata": {},
   "outputs": [],
   "source": [
    "if np.random.rand() > e_rep: # ha NINCSEN hiba\n",
    "    donor_action = strategy[donoridx][0] if (rec_hirnev == 0) else strategy[donoridx][1]\n",
    "else:\n",
    "    donor_action = strategy[donoridx][0] if (rec_hirnev == 1) else strategy[donoridx][1]"
   ]
  },
  {
   "cell_type": "code",
   "execution_count": 21,
   "id": "454ee764-51a1-4b0f-ae0d-deafae6e9987",
   "metadata": {},
   "outputs": [
    {
     "data": {
      "text/plain": [
       "np.uint8(1)"
      ]
     },
     "execution_count": 21,
     "metadata": {},
     "output_type": "execute_result"
    }
   ],
   "source": [
    "donor_action"
   ]
  },
  {
   "cell_type": "code",
   "execution_count": 22,
   "id": "37b87b30-0868-4377-af3d-a82b8559ef8e",
   "metadata": {},
   "outputs": [
    {
     "data": {
      "text/plain": [
       "False"
      ]
     },
     "execution_count": 22,
     "metadata": {},
     "output_type": "execute_result"
    }
   ],
   "source": [
    "(np.random.rand() <= e_act)"
   ]
  },
  {
   "cell_type": "code",
   "execution_count": 23,
   "id": "1d451ddb-d667-4315-9af0-31c763b5df47",
   "metadata": {},
   "outputs": [
    {
     "data": {
      "text/plain": [
       "np.uint8(1)"
      ]
     },
     "execution_count": 23,
     "metadata": {},
     "output_type": "execute_result"
    }
   ],
   "source": [
    "np.bitwise_xor(donor_action, (np.random.rand() <= e_act))"
   ]
  },
  {
   "cell_type": "code",
   "execution_count": null,
   "id": "bda610a2-3b13-445c-a366-9888218021d2",
   "metadata": {},
   "outputs": [],
   "source": []
  },
  {
   "cell_type": "code",
   "execution_count": null,
   "id": "fd770560-0f3b-4dde-9ff9-a6ac20892ba9",
   "metadata": {},
   "outputs": [],
   "source": []
  },
  {
   "cell_type": "code",
   "execution_count": 27,
   "id": "a5eb4bb6-3ae1-417e-9d3b-96793e262088",
   "metadata": {},
   "outputs": [
    {
     "data": {
      "text/plain": [
       "array([36, 34, 56])"
      ]
     },
     "execution_count": 27,
     "metadata": {},
     "output_type": "execute_result"
    }
   ],
   "source": [
    "np.random.choice(np.arange(0, n), 3, replace=False)"
   ]
  },
  {
   "cell_type": "code",
   "execution_count": null,
   "id": "b94411d9-31b9-4deb-9c30-9a60ecc8f56e",
   "metadata": {},
   "outputs": [],
   "source": []
  },
  {
   "cell_type": "code",
   "execution_count": 28,
   "id": "d275cd65-23f4-42a0-8d91-5f34c04dcaf2",
   "metadata": {},
   "outputs": [],
   "source": [
    "matrix = np.random.randint(0, 100, (2, 3))"
   ]
  },
  {
   "cell_type": "code",
   "execution_count": null,
   "id": "ce40a281-f326-4e36-9edc-f5dc66beff6e",
   "metadata": {},
   "outputs": [],
   "source": []
  },
  {
   "cell_type": "code",
   "execution_count": null,
   "id": "1648a97c-2d61-4da7-ad9f-b7a562d1ee4c",
   "metadata": {},
   "outputs": [],
   "source": []
  },
  {
   "cell_type": "code",
   "execution_count": 30,
   "id": "72fa4a9b-d8f3-43d1-91fe-e1f74549ae4d",
   "metadata": {},
   "outputs": [
    {
     "data": {
      "text/plain": [
       "array([ 0,  1,  2,  3,  4,  5,  6,  7,  8,  9, 10, 11, 12, 13, 14, 15, 16,\n",
       "       17, 18, 19, 20, 21, 22, 23, 24, 25, 26, 27, 28, 29, 30, 31, 32, 33,\n",
       "       34, 35, 36, 37, 38, 39, 40, 41, 42, 43, 44, 45, 46, 47, 48, 49, 50,\n",
       "       51, 52, 53, 54, 55, 56, 57, 58, 59, 60, 61, 62, 63, 64, 65, 66, 67,\n",
       "       68, 69, 70, 71, 72, 73, 74, 75, 76, 77, 78, 79, 80, 81, 82, 83, 84,\n",
       "       85, 86, 87, 88, 89, 90, 91, 92, 93, 94, 95, 96, 97, 98, 99])"
      ]
     },
     "execution_count": 30,
     "metadata": {},
     "output_type": "execute_result"
    }
   ],
   "source": [
    "np.arange(0, n, )"
   ]
  },
  {
   "cell_type": "code",
   "execution_count": null,
   "id": "5089437d-8692-4dec-9f0c-17160677854b",
   "metadata": {},
   "outputs": [],
   "source": []
  },
  {
   "cell_type": "code",
   "execution_count": null,
   "id": "32c4a2f9-eabd-433c-be59-0c65cbcf98be",
   "metadata": {},
   "outputs": [],
   "source": []
  },
  {
   "cell_type": "markdown",
   "id": "1ec45cf9-97e4-42b2-a7e0-703a29949d8f",
   "metadata": {},
   "source": [
    "---\n",
    "\n",
    "## Kommunikációs kör vektorizálása"
   ]
  },
  {
   "cell_type": "code",
   "execution_count": 36,
   "id": "b0667a91-14fc-4e8b-b502-10ba429b320b",
   "metadata": {},
   "outputs": [],
   "source": [
    "vszamok = np.argsort(np.random.rand(n*communication, n), axis=1)[:, :3]"
   ]
  },
  {
   "cell_type": "code",
   "execution_count": 37,
   "id": "d5c24a5b-f6a0-4099-a113-1e4e843a5fa5",
   "metadata": {},
   "outputs": [
    {
     "data": {
      "text/plain": [
       "array([[90, 72, 81],\n",
       "       [81, 28, 62],\n",
       "       [61,  5, 93],\n",
       "       ...,\n",
       "       [80, 64, 82],\n",
       "       [10, 50, 38],\n",
       "       [70, 12, 71]], shape=(10000, 3))"
      ]
     },
     "execution_count": 37,
     "metadata": {},
     "output_type": "execute_result"
    }
   ],
   "source": [
    "vszamok"
   ]
  },
  {
   "cell_type": "code",
   "execution_count": 54,
   "id": "95ddb49c-6baa-4531-9a57-38fd6fab29f0",
   "metadata": {},
   "outputs": [
    {
     "data": {
      "text/plain": [
       "array([[[1, 1, 0, ..., 1, 1, 0],\n",
       "        [0, 1, 1, ..., 0, 1, 0],\n",
       "        [1, 1, 0, ..., 0, 1, 0]],\n",
       "\n",
       "       [[1, 1, 0, ..., 0, 1, 0],\n",
       "        [1, 1, 1, ..., 0, 1, 1],\n",
       "        [0, 1, 0, ..., 1, 1, 1]],\n",
       "\n",
       "       [[1, 0, 0, ..., 1, 0, 1],\n",
       "        [0, 1, 0, ..., 1, 1, 0],\n",
       "        [0, 1, 0, ..., 0, 1, 1]],\n",
       "\n",
       "       ...,\n",
       "\n",
       "       [[1, 1, 1, ..., 1, 1, 0],\n",
       "        [0, 1, 0, ..., 1, 1, 1],\n",
       "        [0, 1, 1, ..., 1, 0, 1]],\n",
       "\n",
       "       [[0, 1, 1, ..., 1, 0, 0],\n",
       "        [1, 0, 1, ..., 1, 0, 0],\n",
       "        [0, 0, 0, ..., 0, 0, 0]],\n",
       "\n",
       "       [[0, 1, 0, ..., 0, 1, 0],\n",
       "        [0, 0, 0, ..., 1, 1, 1],\n",
       "        [1, 1, 0, ..., 0, 1, 0]]], shape=(10000, 3, 100), dtype=uint8)"
      ]
     },
     "execution_count": 54,
     "metadata": {},
     "output_type": "execute_result"
    }
   ],
   "source": [
    "# reputation[l][n] = reputation[m][n]\n",
    "reputation[vszamok]"
   ]
  },
  {
   "cell_type": "code",
   "execution_count": null,
   "id": "c508cd5d-8b57-456d-91a9-34b2da1de5a4",
   "metadata": {},
   "outputs": [],
   "source": [
    "# l\n",
    "vszamok[:, 0]"
   ]
  },
  {
   "cell_type": "code",
   "execution_count": null,
   "id": "e3989916-435e-46b3-9400-b86187a5ba68",
   "metadata": {},
   "outputs": [],
   "source": [
    "# m\n",
    "vszamok[:, 1]"
   ]
  },
  {
   "cell_type": "code",
   "execution_count": null,
   "id": "7d5a4898-ad90-4c89-b81e-fb2b6018f8d7",
   "metadata": {},
   "outputs": [],
   "source": [
    "# n\n",
    "vszamok[:, 2]"
   ]
  },
  {
   "cell_type": "code",
   "execution_count": null,
   "id": "b82f0915-c7ef-4428-88b2-3856943f2116",
   "metadata": {},
   "outputs": [],
   "source": []
  },
  {
   "cell_type": "code",
   "execution_count": null,
   "id": "d1a12459-e073-4a08-97ae-f47135e33812",
   "metadata": {},
   "outputs": [],
   "source": [
    "# az informátor vélemény listája minden loop-ban\n",
    "reputation[vszamok[:, 1]]"
   ]
  },
  {
   "cell_type": "code",
   "execution_count": null,
   "id": "cd6afa12-4755-4e26-8d38-ab6e89a7f1a0",
   "metadata": {},
   "outputs": [],
   "source": [
    "# az informátor vélemény listája minden loop-ban, de csak n témaszemélyről\n",
    "reputation[vszamok[:, 1], vszamok[:, 2]]"
   ]
  },
  {
   "cell_type": "code",
   "execution_count": null,
   "id": "c10a0e5b-53e0-48e8-b69f-e910d6001e6a",
   "metadata": {},
   "outputs": [],
   "source": [
    "# a hallgató l véleménye n témaszemélyről\n",
    "reputation[vszamok[:, 0], vszamok[:, 2]]"
   ]
  },
  {
   "cell_type": "code",
   "execution_count": null,
   "id": "ee8e80c9-2adf-4109-a1b6-6df31b47fccf",
   "metadata": {},
   "outputs": [],
   "source": []
  },
  {
   "cell_type": "code",
   "execution_count": 55,
   "id": "5a065294-4b27-4de8-a790-a3a44b97ba16",
   "metadata": {},
   "outputs": [
    {
     "data": {
      "text/plain": [
       "np.uint8(0)"
      ]
     },
     "execution_count": 55,
     "metadata": {},
     "output_type": "execute_result"
    }
   ],
   "source": [
    "reputation[37, 7]"
   ]
  },
  {
   "cell_type": "code",
   "execution_count": null,
   "id": "7f286da7-29cd-4abf-aca0-25ea5177149e",
   "metadata": {},
   "outputs": [],
   "source": []
  },
  {
   "cell_type": "code",
   "execution_count": 86,
   "id": "e7d3f297-d1f9-465d-a6d3-2938a357247e",
   "metadata": {},
   "outputs": [],
   "source": [
    "# módosítom a reputációt\n",
    "reputation[vszamok[:, 0], vszamok[:, 2]] = reputation[vszamok[:, 1], vszamok[:, 2]]\n",
    "# np.where átírás!"
   ]
  },
  {
   "cell_type": "code",
   "execution_count": null,
   "id": "99a1fcf4-65b8-4fd8-b43d-d19fde5614db",
   "metadata": {},
   "outputs": [],
   "source": []
  },
  {
   "cell_type": "code",
   "execution_count": 58,
   "id": "a9860f0b-3ed6-4e70-87ca-56365df301d1",
   "metadata": {},
   "outputs": [],
   "source": [
    "# feltételes módosítás\n",
    "mask = reputation[vszamok[:, 0], vszamok[:, 1]] == 0  # l hallgaó véleménye az m informátorról, csak azok a sorok ahol good\n",
    "reputation[vszamok[:, 0], vszamok[:, 2]][mask] = reputation[vszamok[:, 1], vszamok[:, 2]][mask]"
   ]
  },
  {
   "cell_type": "code",
   "execution_count": null,
   "id": "5d97e36b-4376-4070-9ce1-68d1492bf182",
   "metadata": {},
   "outputs": [],
   "source": []
  },
  {
   "cell_type": "code",
   "execution_count": 60,
   "id": "d7f2e87e-9c6e-4562-938a-79b8f966fffd",
   "metadata": {},
   "outputs": [],
   "source": [
    "vszamok = np.argsort(np.random.rand(n * communication, n), axis=1)[:, :3]  # (l,m,n), len=n*communication"
   ]
  },
  {
   "cell_type": "code",
   "execution_count": 61,
   "id": "592f4b55-93b4-45e0-8de4-73749c6e4c0b",
   "metadata": {},
   "outputs": [
    {
     "data": {
      "text/plain": [
       "array([[23,  4, 25],\n",
       "       [97,  1, 58],\n",
       "       [41, 65,  9],\n",
       "       ...,\n",
       "       [75, 12, 27],\n",
       "       [88, 63, 38],\n",
       "       [96, 85, 13]], shape=(10000, 3))"
      ]
     },
     "execution_count": 61,
     "metadata": {},
     "output_type": "execute_result"
    }
   ],
   "source": [
    "vszamok"
   ]
  },
  {
   "cell_type": "code",
   "execution_count": null,
   "id": "57b345f7-03a5-4e43-806b-c3dff92b2909",
   "metadata": {},
   "outputs": [],
   "source": []
  },
  {
   "cell_type": "code",
   "execution_count": null,
   "id": "4ba8a4a0-8f37-4ec5-aa25-bab24a9cc82d",
   "metadata": {},
   "outputs": [],
   "source": []
  },
  {
   "cell_type": "code",
   "execution_count": 70,
   "id": "c80c3aaf-1ae9-4d50-aa3d-6701e10df813",
   "metadata": {},
   "outputs": [
    {
     "name": "stdout",
     "output_type": "stream",
     "text": [
      "CPU times: user 3 μs, sys: 1e+03 ns, total: 4 μs\n",
      "Wall time: 7.87 μs\n"
     ]
    }
   ],
   "source": [
    "%time\n",
    "# miutám minden pár játszott jön a kommunikációs kör\n",
    "vszamok = np.argsort(np.random.rand(n * communication, n), axis=1)[:, :3]  # (l,m,n), len=n*communication\n",
    "\n",
    "if com_mode == 1:\n",
    "    reputation[vszamok[:, 0], vszamok[:, 2]] = reputation[vszamok[:, 1], vszamok[:, 2]]\n",
    "elif com_mode == 2:\n",
    "    mask = reputation[vszamok[:, 0], vszamok[:, 1]] == 0  # l hallgaó véleménye az m informátorról, csak azok a sorok ahol good\n",
    "    reputation[vszamok[:, 0], vszamok[:, 2]][mask] = reputation[vszamok[:, 1], vszamok[:, 2]][mask]\n",
    "else:\n",
    "    raise Exception('A com_mode változó értéke csak 1 vagy 2 lehet!')"
   ]
  },
  {
   "cell_type": "code",
   "execution_count": null,
   "id": "146c6e92-3603-431e-be69-90d53531b83b",
   "metadata": {},
   "outputs": [],
   "source": []
  },
  {
   "cell_type": "code",
   "execution_count": 74,
   "id": "092a8228-5ce6-455b-8f1c-2be192cac582",
   "metadata": {},
   "outputs": [
    {
     "name": "stdout",
     "output_type": "stream",
     "text": [
      "CPU times: user 4 μs, sys: 1 μs, total: 5 μs\n",
      "Wall time: 7.15 μs\n"
     ]
    }
   ],
   "source": [
    "%time\n",
    "# random számok ismétlődhetnek oszloponként (konkrét c++ \"hibás\" kód)\n",
    "vszamok = np.random.randint(0, n, size=(n * communication, 3))\n",
    "\n",
    "if com_mode == 1:\n",
    "    reputation[vszamok[:, 0], vszamok[:, 2]] = reputation[vszamok[:, 1], vszamok[:, 2]]\n",
    "elif com_mode == 2:\n",
    "    mask = reputation[vszamok[:, 0], vszamok[:, 1]] == 0  # l hallgaó véleménye az m informátorról, csak azok a sorok ahol good\n",
    "    reputation[vszamok[:, 0], vszamok[:, 2]][mask] = reputation[vszamok[:, 1], vszamok[:, 2]][mask]\n",
    "else:\n",
    "    raise Exception('A com_mode változó értéke csak 1 vagy 2 lehet!')"
   ]
  },
  {
   "cell_type": "code",
   "execution_count": null,
   "id": "a124eea2-dc0a-4ad1-8b1d-219562007313",
   "metadata": {},
   "outputs": [],
   "source": []
  },
  {
   "cell_type": "code",
   "execution_count": 63,
   "id": "e93f05b3-c66b-4d02-ae7a-bb60ceb01d50",
   "metadata": {},
   "outputs": [],
   "source": [
    "vszamok = np.random.randint(0, n, size=(n * communication, 3))"
   ]
  },
  {
   "cell_type": "code",
   "execution_count": 64,
   "id": "a162bd43-3187-450a-a0e7-e41e22f777ab",
   "metadata": {},
   "outputs": [
    {
     "data": {
      "text/plain": [
       "array([[75, 49, 94],\n",
       "       [28, 16, 16],\n",
       "       [45, 91, 74],\n",
       "       ...,\n",
       "       [60, 16,  7],\n",
       "       [90, 24, 24],\n",
       "       [66, 92,  8]], shape=(10000, 3))"
      ]
     },
     "execution_count": 64,
     "metadata": {},
     "output_type": "execute_result"
    }
   ],
   "source": [
    "vszamok"
   ]
  },
  {
   "cell_type": "code",
   "execution_count": null,
   "id": "c035f0d7-d1ab-4f3c-a9e4-66884c3511a0",
   "metadata": {},
   "outputs": [],
   "source": []
  },
  {
   "cell_type": "code",
   "execution_count": null,
   "id": "5f717f5f-5883-4b0d-b793-fd472bb50d13",
   "metadata": {},
   "outputs": [],
   "source": []
  },
  {
   "cell_type": "code",
   "execution_count": null,
   "id": "d9465ed2-5c57-4b08-9b8c-04433728d016",
   "metadata": {},
   "outputs": [],
   "source": []
  },
  {
   "cell_type": "markdown",
   "id": "8b17ca6f-f6e0-428f-b5d2-3303a1f9a937",
   "metadata": {},
   "source": [
    "---\n",
    "\n",
    "## Teljes játékkör vektralizálása"
   ]
  },
  {
   "cell_type": "code",
   "execution_count": 75,
   "id": "39851931-7ee5-4b6a-bebe-9beed8172070",
   "metadata": {},
   "outputs": [],
   "source": [
    "parok = np.random.permutation(n).reshape(-1, 2)"
   ]
  },
  {
   "cell_type": "code",
   "execution_count": 76,
   "id": "9e2da13d-ff4a-4d08-bf46-004500d7f37d",
   "metadata": {
    "scrolled": true
   },
   "outputs": [
    {
     "data": {
      "text/plain": [
       "array([[41,  8],\n",
       "       [ 0, 66],\n",
       "       [47,  2],\n",
       "       [99, 53],\n",
       "       [81, 83],\n",
       "       [84, 14],\n",
       "       [85, 39],\n",
       "       [17, 95],\n",
       "       [75, 79],\n",
       "       [54, 16],\n",
       "       [57, 13],\n",
       "       [44, 73],\n",
       "       [12, 72],\n",
       "       [52, 68],\n",
       "       [65, 86],\n",
       "       [ 9,  5],\n",
       "       [ 7, 78],\n",
       "       [21,  6],\n",
       "       [63, 62],\n",
       "       [11, 51],\n",
       "       [77, 76],\n",
       "       [97, 25],\n",
       "       [33, 22],\n",
       "       [60, 30],\n",
       "       [46, 89],\n",
       "       [80,  4],\n",
       "       [93, 45],\n",
       "       [74, 59],\n",
       "       [18, 43],\n",
       "       [15,  1],\n",
       "       [26, 40],\n",
       "       [98, 19],\n",
       "       [38, 27],\n",
       "       [56, 92],\n",
       "       [31, 67],\n",
       "       [91, 82],\n",
       "       [50, 58],\n",
       "       [64, 96],\n",
       "       [23, 34],\n",
       "       [42, 36],\n",
       "       [94, 69],\n",
       "       [61, 37],\n",
       "       [32, 70],\n",
       "       [28, 29],\n",
       "       [88, 10],\n",
       "       [20, 24],\n",
       "       [55,  3],\n",
       "       [71, 49],\n",
       "       [48, 87],\n",
       "       [90, 35]])"
      ]
     },
     "execution_count": 76,
     "metadata": {},
     "output_type": "execute_result"
    }
   ],
   "source": [
    "parok"
   ]
  },
  {
   "cell_type": "code",
   "execution_count": null,
   "id": "0a876539-d12c-41c1-8f9e-342c8e0fbef2",
   "metadata": {},
   "outputs": [],
   "source": []
  },
  {
   "cell_type": "code",
   "execution_count": 77,
   "id": "62cfc183-126c-44bc-be3d-dc3958d7d776",
   "metadata": {},
   "outputs": [],
   "source": [
    "# minden párhoz lekérdezem a recipiens hírnevét\n",
    "rec_hirnev = reputation[parok[:, 0], parok[:, 1]]"
   ]
  },
  {
   "cell_type": "code",
   "execution_count": 78,
   "id": "ea90573f-c0f9-4414-a4c8-5c1acdb26816",
   "metadata": {},
   "outputs": [
    {
     "data": {
      "text/plain": [
       "array([1, 0, 1, 1, 1, 0, 0, 1, 1, 1, 0, 1, 0, 1, 1, 0, 0, 0, 0, 0, 1, 0,\n",
       "       0, 0, 0, 1, 0, 0, 1, 0, 0, 1, 0, 0, 0, 1, 1, 0, 0, 1, 1, 1, 1, 1,\n",
       "       1, 1, 0, 0, 1, 1], dtype=uint8)"
      ]
     },
     "execution_count": 78,
     "metadata": {},
     "output_type": "execute_result"
    }
   ],
   "source": [
    "rec_hirnev"
   ]
  },
  {
   "cell_type": "code",
   "execution_count": null,
   "id": "f745ab26-3388-48c8-8b43-637a9b066d1c",
   "metadata": {},
   "outputs": [],
   "source": []
  },
  {
   "cell_type": "code",
   "execution_count": 81,
   "id": "6af9dc8a-7639-470f-af73-94104c98c72b",
   "metadata": {},
   "outputs": [
    {
     "data": {
      "text/plain": [
       "array([1, 0, 1, 1, 1, 0, 0, 1, 1, 1, 0, 1, 0, 1, 1, 0, 0, 0, 0, 0, 1, 0,\n",
       "       0, 0, 0, 1, 0, 0, 1, 0, 0, 1, 0, 0, 0, 1, 1, 0, 0, 1, 1, 1, 1, 1,\n",
       "       1, 1, 0, 0, 1, 1], dtype=uint8)"
      ]
     },
     "execution_count": 81,
     "metadata": {},
     "output_type": "execute_result"
    }
   ],
   "source": [
    "# hiba a recipiens hírnevének felidézésében\n",
    "np.bitwise_xor(rec_hirnev, (np.random.rand(int(n/2)) <= e_rep)) # == rec_hirnev"
   ]
  },
  {
   "cell_type": "code",
   "execution_count": null,
   "id": "8e29c971-03bc-4894-a48e-cc4157f9bd4b",
   "metadata": {},
   "outputs": [],
   "source": []
  },
  {
   "cell_type": "code",
   "execution_count": 98,
   "id": "cb70167c-44da-44c6-b9f9-0747f31a0fae",
   "metadata": {},
   "outputs": [],
   "source": [
    "donor_action = strategy[parok[:, 0]][np.arange(int(n/2)), np.bitwise_xor(rec_hirnev, (np.random.rand(int(n/2)) <= e_rep))]"
   ]
  },
  {
   "cell_type": "code",
   "execution_count": 99,
   "id": "1bc9c9e1-3bfc-44e8-89bb-4774188be808",
   "metadata": {},
   "outputs": [],
   "source": [
    "# hiba a cselekvés végrehajtásában"
   ]
  },
  {
   "cell_type": "code",
   "execution_count": 100,
   "id": "526d4443-e5fa-4316-ad02-91c3d2f285bf",
   "metadata": {},
   "outputs": [
    {
     "data": {
      "text/plain": [
       "array([1, 0, 1, 2, 1, 1, 2, 1, 1, 1, 0, 1, 0, 1, 1, 0, 0, 0, 0, 0, 1, 0,\n",
       "       0, 0, 0, 1, 2, 0, 1, 0, 0, 2, 0, 0, 0, 0, 1, 0, 0, 1, 0, 1, 1, 1,\n",
       "       1, 1, 0, 0, 1, 0], dtype=uint8)"
      ]
     },
     "execution_count": 100,
     "metadata": {},
     "output_type": "execute_result"
    }
   ],
   "source": [
    "donor_action"
   ]
  },
  {
   "cell_type": "code",
   "execution_count": null,
   "id": "96a5b4ac-ae69-47b1-9d82-0337eff1ced5",
   "metadata": {},
   "outputs": [],
   "source": []
  },
  {
   "cell_type": "code",
   "execution_count": null,
   "id": "dc8eccd6-9439-4b9b-94b4-0eddff25466e",
   "metadata": {},
   "outputs": [],
   "source": []
  },
  {
   "cell_type": "code",
   "execution_count": 102,
   "id": "6c0907fd-08d9-4a5b-b75f-025ab731f326",
   "metadata": {},
   "outputs": [],
   "source": [
    "# ha random_choice True, donor_action+1; ha False, donor_action+2 (modulo 3)\n",
    "donor_action_hibas = np.where(np.random.rand(int(n/2)) < 0.5, (donor_action + 1) % 3, (donor_action + 2) % 3)\n",
    "donor_action_uj = np.where((np.random.rand(int(n/2)) < e_act), donor_action_hibas, donor_action)\n",
    "#donor_action[hiba_mask] = donor_action_hibas[hiba_mask]"
   ]
  },
  {
   "cell_type": "code",
   "execution_count": 103,
   "id": "9faa1f55-6655-40db-bc0a-82cf50102a53",
   "metadata": {},
   "outputs": [
    {
     "data": {
      "text/plain": [
       "array([1, 0, 1, 2, 1, 1, 2, 1, 1, 1, 0, 1, 0, 1, 1, 0, 0, 0, 0, 0, 1, 0,\n",
       "       0, 0, 0, 1, 2, 0, 1, 0, 0, 2, 0, 0, 0, 0, 1, 0, 0, 1, 0, 1, 1, 1,\n",
       "       1, 1, 0, 0, 1, 0], dtype=uint8)"
      ]
     },
     "execution_count": 103,
     "metadata": {},
     "output_type": "execute_result"
    }
   ],
   "source": [
    "donor_action"
   ]
  },
  {
   "cell_type": "code",
   "execution_count": null,
   "id": "2c2a79cd-7deb-420f-aeb9-7dd38c7d3485",
   "metadata": {},
   "outputs": [],
   "source": []
  },
  {
   "cell_type": "code",
   "execution_count": 110,
   "id": "49f19718-5f69-4900-a3c7-619440b5e059",
   "metadata": {},
   "outputs": [],
   "source": [
    "# kifizetések"
   ]
  },
  {
   "cell_type": "code",
   "execution_count": 126,
   "id": "8c97cbe3-cdcf-472f-baf7-9e902efabd50",
   "metadata": {},
   "outputs": [],
   "source": [
    "payoff = np.zeros(n)"
   ]
  },
  {
   "cell_type": "code",
   "execution_count": 127,
   "id": "580ec7f4-1cf4-4bf1-8f21-d2b74478587b",
   "metadata": {},
   "outputs": [
    {
     "data": {
      "text/plain": [
       "array([False,  True, False, False, False, False, False, False, False,\n",
       "       False,  True, False,  True, False, False,  True,  True,  True,\n",
       "        True,  True, False,  True,  True,  True,  True, False, False,\n",
       "        True, False,  True,  True, False,  True,  True,  True,  True,\n",
       "       False,  True,  True, False,  True, False, False, False, False,\n",
       "       False,  True,  True, False,  True])"
      ]
     },
     "execution_count": 127,
     "metadata": {},
     "output_type": "execute_result"
    }
   ],
   "source": [
    "donor_action == 0"
   ]
  },
  {
   "cell_type": "code",
   "execution_count": 128,
   "id": "1da803c1-5687-4b90-b0a3-b8dc9a8901b6",
   "metadata": {},
   "outputs": [],
   "source": [
    "payoff[parok[donor_action == 0, 0]] -= c\n",
    "payoff[parok[donor_action == 0, 1]] += b"
   ]
  },
  {
   "cell_type": "code",
   "execution_count": 129,
   "id": "3e484322-b741-4144-9b50-444df30495a2",
   "metadata": {},
   "outputs": [
    {
     "data": {
      "text/plain": [
       "array([-3.,  9.,  0.,  9.,  0.,  9.,  9., -3.,  0., -3.,  0., -3., -3.,\n",
       "        9.,  0., -3.,  0.,  0.,  0.,  0.,  0., -3.,  9., -3.,  0.,  9.,\n",
       "       -3.,  9.,  0.,  0.,  9., -3.,  0., -3.,  9.,  9.,  0.,  0., -3.,\n",
       "        0.,  9.,  0.,  0.,  0.,  0.,  0., -3.,  0.,  0.,  9.,  0.,  9.,\n",
       "        0.,  0.,  0., -3., -3., -3.,  0.,  9., -3.,  0.,  9., -3., -3.,\n",
       "        0.,  9.,  9.,  0.,  9.,  0., -3.,  9.,  0., -3.,  0.,  0.,  0.,\n",
       "        9.,  0.,  0.,  0.,  9.,  0.,  0.,  0.,  0.,  0.,  0.,  9., -3.,\n",
       "       -3.,  9.,  0., -3.,  0.,  9., -3.,  0.,  0.])"
      ]
     },
     "execution_count": 129,
     "metadata": {},
     "output_type": "execute_result"
    }
   ],
   "source": [
    "payoff"
   ]
  },
  {
   "cell_type": "code",
   "execution_count": 130,
   "id": "d2bee052-69be-4f9f-b26a-baf7dc37f4c4",
   "metadata": {},
   "outputs": [],
   "source": [
    "payoff[parok[donor_action == 2, 0]] -= alpha\n",
    "payoff[parok[donor_action == 2, 1]] -= beta"
   ]
  },
  {
   "cell_type": "code",
   "execution_count": 131,
   "id": "0a7ababc-733e-4fe3-afaa-7a8d346c46e6",
   "metadata": {},
   "outputs": [
    {
     "data": {
      "text/plain": [
       "array([-3.,  9.,  0.,  9.,  0.,  9.,  9., -3.,  0., -3.,  0., -3., -3.,\n",
       "        9.,  0., -3.,  0.,  0.,  0., -4.,  0., -3.,  9., -3.,  0.,  9.,\n",
       "       -3.,  9.,  0.,  0.,  9., -3.,  0., -3.,  9.,  9.,  0.,  0., -3.,\n",
       "       -4.,  9.,  0.,  0.,  0.,  0., -4., -3.,  0.,  0.,  9.,  0.,  9.,\n",
       "        0., -4.,  0., -3., -3., -3.,  0.,  9., -3.,  0.,  9., -3., -3.,\n",
       "        0.,  9.,  9.,  0.,  9.,  0., -3.,  9.,  0., -3.,  0.,  0.,  0.,\n",
       "        9.,  0.,  0.,  0.,  9.,  0.,  0., -1.,  0.,  0.,  0.,  9., -3.,\n",
       "       -3.,  9., -1., -3.,  0.,  9., -3., -1., -1.])"
      ]
     },
     "execution_count": 131,
     "metadata": {},
     "output_type": "execute_result"
    }
   ],
   "source": [
    "payoff"
   ]
  },
  {
   "cell_type": "code",
   "execution_count": null,
   "id": "198ce142-82ee-41f3-bd73-3aceb3323f33",
   "metadata": {},
   "outputs": [],
   "source": []
  },
  {
   "cell_type": "code",
   "execution_count": 132,
   "id": "1153c978-cb55-4aae-943a-1269f61b9c36",
   "metadata": {},
   "outputs": [],
   "source": [
    "# a játék után firssül a donor hírneve\n",
    "\n"
   ]
  },
  {
   "cell_type": "code",
   "execution_count": 165,
   "id": "845babf3-806c-46a0-822f-8035308ad1d3",
   "metadata": {},
   "outputs": [
    {
     "data": {
      "text/plain": [
       "array([[1, 0, 1, ..., 1, 1, 1],\n",
       "       [0, 0, 1, ..., 0, 0, 0],\n",
       "       [1, 0, 1, ..., 1, 1, 1],\n",
       "       ...,\n",
       "       [0, 0, 1, ..., 0, 0, 1],\n",
       "       [1, 1, 1, ..., 1, 1, 1],\n",
       "       [1, 1, 0, ..., 1, 1, 1]], shape=(50, 100), dtype=uint8)"
      ]
     },
     "execution_count": 165,
     "metadata": {},
     "output_type": "execute_result"
    }
   ],
   "source": [
    "# az összes játékban az összes játékos lekérdezi a recipiens hírnevét \n",
    "reputation[:, parok[:, 1]].T"
   ]
  },
  {
   "cell_type": "code",
   "execution_count": null,
   "id": "3fb7b8d4-78d3-4cf3-9419-058ce90f2f6e",
   "metadata": {},
   "outputs": [],
   "source": [
    "# a norma alapján alkot egy új véleményt"
   ]
  },
  {
   "cell_type": "code",
   "execution_count": null,
   "id": "75c010f9-1592-46f4-8d74-021bfe87d9d1",
   "metadata": {},
   "outputs": [],
   "source": []
  },
  {
   "cell_type": "code",
   "execution_count": null,
   "id": "7fe510e4-a511-4a9f-b590-2ef3afbeef39",
   "metadata": {},
   "outputs": [],
   "source": []
  },
  {
   "cell_type": "code",
   "execution_count": null,
   "id": "96090e18-dfe3-4707-82e6-3cc482fc54c1",
   "metadata": {},
   "outputs": [],
   "source": []
  },
  {
   "cell_type": "code",
   "execution_count": 137,
   "id": "7adc24dd-6c9f-47d7-8b39-018700b5d9ad",
   "metadata": {},
   "outputs": [
    {
     "data": {
      "text/plain": [
       "array([[0, 1],\n",
       "       [1, 0],\n",
       "       [1, 1]], dtype=uint8)"
      ]
     },
     "execution_count": 137,
     "metadata": {},
     "output_type": "execute_result"
    }
   ],
   "source": [
    "public_norm"
   ]
  },
  {
   "cell_type": "code",
   "execution_count": 166,
   "id": "8b1bbb89-034a-4322-86a7-f4a4deaf04d8",
   "metadata": {},
   "outputs": [
    {
     "data": {
      "text/plain": [
       "100"
      ]
     },
     "execution_count": 166,
     "metadata": {},
     "output_type": "execute_result"
    }
   ],
   "source": [
    "public_norm[donor_action].size"
   ]
  },
  {
   "cell_type": "code",
   "execution_count": 141,
   "id": "6c28cc0c-c1d1-4d0f-9b1c-2756593b2051",
   "metadata": {},
   "outputs": [],
   "source": [
    "uj_velemenyek = public_norm[donor_action][reputation[:, parok[:, 1]]]"
   ]
  },
  {
   "cell_type": "code",
   "execution_count": 146,
   "id": "f555c2c5-0c0f-49f7-b30f-c2b77c74f958",
   "metadata": {},
   "outputs": [
    {
     "data": {
      "text/plain": [
       "array([[[1, 0, 1, ..., 0, 1, 1]],\n",
       "\n",
       "       [[0, 0, 0, ..., 0, 1, 1]],\n",
       "\n",
       "       [[1, 1, 1, ..., 1, 1, 0]],\n",
       "\n",
       "       ...,\n",
       "\n",
       "       [[1, 0, 1, ..., 0, 1, 1]],\n",
       "\n",
       "       [[1, 0, 1, ..., 0, 1, 1]],\n",
       "\n",
       "       [[1, 0, 1, ..., 1, 1, 1]]], shape=(100, 1, 50), dtype=uint8)"
      ]
     },
     "execution_count": 146,
     "metadata": {},
     "output_type": "execute_result"
    }
   ],
   "source": [
    "# sor lista: mindenki véleménye a recipiensről\n",
    "reputation[:, parok[:, 1]]"
   ]
  },
  {
   "cell_type": "code",
   "execution_count": 147,
   "id": "b7309671-d87e-43b2-b460-b747a6ba5f92",
   "metadata": {},
   "outputs": [
    {
     "data": {
      "text/plain": [
       "array([ 8, 66,  2, 53, 83, 14, 39, 95, 79, 16, 13, 73, 72, 68, 86,  5, 78,\n",
       "        6, 62, 51, 76, 25, 22, 30, 89,  4, 45, 59, 43,  1, 40, 19, 27, 92,\n",
       "       67, 82, 58, 96, 34, 36, 69, 37, 70, 29, 10, 24,  3, 49, 87, 35])"
      ]
     },
     "execution_count": 147,
     "metadata": {},
     "output_type": "execute_result"
    }
   ],
   "source": [
    "parok[:, 1]"
   ]
  },
  {
   "cell_type": "code",
   "execution_count": null,
   "id": "35ece5b9-f917-4176-9123-3552c396a03a",
   "metadata": {},
   "outputs": [],
   "source": []
  },
  {
   "cell_type": "code",
   "execution_count": null,
   "id": "987c8e2d-ad6d-4347-a587-5a88bf83b4c2",
   "metadata": {},
   "outputs": [],
   "source": []
  },
  {
   "cell_type": "code",
   "execution_count": 144,
   "id": "75b9741e-29a5-4a5f-a05e-56cbbb0e677e",
   "metadata": {},
   "outputs": [
    {
     "data": {
      "text/plain": [
       "array([[0, 1, 1, ..., 0, 0, 1],\n",
       "       [0, 1, 0, ..., 0, 1, 0],\n",
       "       [0, 0, 1, ..., 0, 1, 1],\n",
       "       ...,\n",
       "       [0, 1, 1, ..., 0, 1, 0],\n",
       "       [0, 0, 1, ..., 1, 1, 1],\n",
       "       [0, 1, 1, ..., 1, 0, 0]], shape=(100, 100), dtype=uint8)"
      ]
     },
     "execution_count": 144,
     "metadata": {},
     "output_type": "execute_result"
    }
   ],
   "source": [
    "reputation"
   ]
  },
  {
   "cell_type": "code",
   "execution_count": null,
   "id": "aee244e0-77fd-43ed-a11f-040833913590",
   "metadata": {},
   "outputs": [],
   "source": []
  },
  {
   "cell_type": "code",
   "execution_count": null,
   "id": "098e08b6-3fe2-45c2-a6a4-f881bdae6916",
   "metadata": {},
   "outputs": [],
   "source": [
    "public_norm[]"
   ]
  },
  {
   "cell_type": "code",
   "execution_count": 136,
   "id": "856ee40b-d0c7-4e43-be4a-4beb68af101c",
   "metadata": {},
   "outputs": [
    {
     "data": {
      "text/plain": [
       "array([1, 0, 1, 2, 1, 1, 2, 1, 1, 1, 0, 1, 0, 1, 1, 0, 0, 0, 0, 0, 1, 0,\n",
       "       0, 0, 0, 1, 2, 0, 1, 0, 0, 2, 0, 0, 0, 0, 1, 0, 0, 1, 0, 1, 1, 1,\n",
       "       1, 1, 0, 0, 1, 0], dtype=uint8)"
      ]
     },
     "execution_count": 136,
     "metadata": {},
     "output_type": "execute_result"
    }
   ],
   "source": [
    "donor_action"
   ]
  },
  {
   "cell_type": "code",
   "execution_count": null,
   "id": "db13ef65-698b-4731-b9ee-7b0c54f0ba1e",
   "metadata": {},
   "outputs": [],
   "source": []
  },
  {
   "cell_type": "code",
   "execution_count": null,
   "id": "2cb1fafb-55e1-45b0-9e83-9fa12473e84e",
   "metadata": {},
   "outputs": [],
   "source": [
    "times_of_cooperation = donor_action[donor_action == 0].size"
   ]
  },
  {
   "cell_type": "code",
   "execution_count": null,
   "id": "07694dbe-bd28-4bc5-a387-c7678d7efee9",
   "metadata": {},
   "outputs": [],
   "source": []
  },
  {
   "cell_type": "code",
   "execution_count": null,
   "id": "7a63effc-4980-4a2d-8607-4a50a03d3557",
   "metadata": {},
   "outputs": [],
   "source": []
  },
  {
   "cell_type": "code",
   "execution_count": null,
   "id": "e1fb517d-8250-4fae-b2a1-d71215955aa6",
   "metadata": {},
   "outputs": [],
   "source": []
  },
  {
   "cell_type": "code",
   "execution_count": null,
   "id": "6b4ea8cd-cbce-4230-a35a-59ccf427ed0a",
   "metadata": {},
   "outputs": [],
   "source": []
  }
 ],
 "metadata": {
  "kernelspec": {
   "display_name": "Python 3 (ipykernel)",
   "language": "python",
   "name": "python3"
  },
  "language_info": {
   "codemirror_mode": {
    "name": "ipython",
    "version": 3
   },
   "file_extension": ".py",
   "mimetype": "text/x-python",
   "name": "python",
   "nbconvert_exporter": "python",
   "pygments_lexer": "ipython3",
   "version": "3.13.1"
  }
 },
 "nbformat": 4,
 "nbformat_minor": 5
}
